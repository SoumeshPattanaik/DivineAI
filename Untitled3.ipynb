{
  "nbformat": 4,
  "nbformat_minor": 0,
  "metadata": {
    "colab": {
      "name": "Untitled3.ipynb",
      "provenance": [],
      "authorship_tag": "ABX9TyN6GxyGUQ2I3DxHvxi9oLql",
      "include_colab_link": true
    },
    "kernelspec": {
      "name": "python3",
      "display_name": "Python 3"
    },
    "language_info": {
      "name": "python"
    }
  },
  "cells": [
    {
      "cell_type": "markdown",
      "metadata": {
        "id": "view-in-github",
        "colab_type": "text"
      },
      "source": [
        "<a href=\"https://colab.research.google.com/github/SoumeshPattanaik/DivineAI/blob/main/Untitled3.ipynb\" target=\"_parent\"><img src=\"https://colab.research.google.com/assets/colab-badge.svg\" alt=\"Open In Colab\"/></a>"
      ]
    },
    {
      "cell_type": "code",
      "metadata": {
        "colab": {
          "base_uri": "https://localhost:8080/"
        },
        "id": "xJAABX9KG68u",
        "outputId": "6dc95317-d0ca-4244-91c5-e44a85f00e0e"
      },
      "source": [
        "# Keep All items from List But NOT the Duplicates\n",
        "my_list=['Equinox',21,'Solstice','June','June','Yule',15,'December','Equinox','Doomsday']\n",
        "print(\"Original list=\",my_list)\n",
        "print(\"List after removing duplicates=\",list(set(my_list)))"
      ],
      "execution_count": 2,
      "outputs": [
        {
          "output_type": "stream",
          "text": [
            "Original list= ['Equinox', 21, 'Solstice', 'June', 'June', 'Yule', 15, 'December', 'Equinox', 'Doomsday']\n",
            "List after removing duplicates= ['Doomsday', 'December', 'June', 'Equinox', 'Yule', 'Solstice', 15, 21]\n"
          ],
          "name": "stdout"
        }
      ]
    },
    {
      "cell_type": "code",
      "metadata": {
        "id": "cwRzeRD7IgK3"
      },
      "source": [
        ""
      ],
      "execution_count": null,
      "outputs": []
    }
  ]
}