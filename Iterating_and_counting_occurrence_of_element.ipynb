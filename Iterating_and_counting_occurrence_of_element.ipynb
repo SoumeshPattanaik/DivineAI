{
  "nbformat": 4,
  "nbformat_minor": 0,
  "metadata": {
    "colab": {
      "name": "Iterating and counting occurrence of element.ipynb",
      "provenance": [],
      "authorship_tag": "ABX9TyNxHcazQRsJX6nGYBa6oYAW",
      "include_colab_link": true
    },
    "kernelspec": {
      "name": "python3",
      "display_name": "Python 3"
    },
    "language_info": {
      "name": "python"
    }
  },
  "cells": [
    {
      "cell_type": "markdown",
      "metadata": {
        "id": "view-in-github",
        "colab_type": "text"
      },
      "source": [
        "<a href=\"https://colab.research.google.com/github/SoumeshPattanaik/DivineAI/blob/main/Iterating_and_counting_occurrence_of_element.ipynb\" target=\"_parent\"><img src=\"https://colab.research.google.com/assets/colab-badge.svg\" alt=\"Open In Colab\"/></a>"
      ]
    },
    {
      "cell_type": "code",
      "metadata": {
        "colab": {
          "base_uri": "https://localhost:8080/"
        },
        "id": "Qap3R94Entj7",
        "outputId": "2dae8c7e-88d2-414e-98ee-f5b7366b84de"
      },
      "source": [
        "# Given a list iterate it and count the occurrence of each element and create a dictionary to show the count of each element\n",
        "def count(my_list):\n",
        "  freq = {}                     # Empty Dictionary\n",
        "  for i in my_list:\n",
        "    if (i in freq):\n",
        "      freq[i]+=1\n",
        "    else:\n",
        "      freq[i] = 1\n",
        "  \n",
        "  for key,value in freq.items():\n",
        "    print(\"%d : %d\"%(key,value))\n",
        "my_list=[1,1,1,1,4,3,2,6,7,4,4,5,6,1,0,0,0,4,2,2,101,101]\n",
        "count(my_list)"
      ],
      "execution_count": 2,
      "outputs": [
        {
          "output_type": "stream",
          "text": [
            "1 : 5\n",
            "4 : 4\n",
            "3 : 1\n",
            "2 : 3\n",
            "6 : 2\n",
            "7 : 1\n",
            "5 : 1\n",
            "0 : 3\n",
            "101 : 2\n"
          ],
          "name": "stdout"
        }
      ]
    },
    {
      "cell_type": "code",
      "metadata": {
        "id": "0sjeYcfRozoY"
      },
      "source": [
        ""
      ],
      "execution_count": null,
      "outputs": []
    }
  ]
}