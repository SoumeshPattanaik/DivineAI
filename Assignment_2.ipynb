{
 "cells": [
  {
   "cell_type": "code",
   "execution_count": 12,
   "id": "98164735",
   "metadata": {},
   "outputs": [
    {
     "name": "stdout",
     "output_type": "stream",
     "text": [
      "Enter value in kilometers 6.7\n",
      "Value entered =  1.6 Kms\n",
      "Distance in miles =  4.163197335553705 miles\n"
     ]
    }
   ],
   "source": [
    "#Python Program to Convert Kilometers to Miles\n",
    "\n",
    "km=float(input(\"Enter value in kilometers \"))\n",
    "print(\"Value entered = \",kilo,\"Kms\")\n",
    "print(\"Distance in miles = \",km/1.60934,\"miles\")\n"
   ]
  },
  {
   "cell_type": "code",
   "execution_count": 13,
   "id": "f3c84dc2",
   "metadata": {},
   "outputs": [
    {
     "name": "stdout",
     "output_type": "stream",
     "text": [
      "Enter a number-86\n",
      "Number is Even\n"
     ]
    }
   ],
   "source": [
    "#Python Program to Check if a Number is Odd or Even\n",
    "\n",
    "n=float(input(\"Enter a number\"))\n",
    "if(n%2 == 0):\n",
    "    print(\"Number is Even\")\n",
    "else:\n",
    "    print(\"Number is odd\")"
   ]
  },
  {
   "cell_type": "code",
   "execution_count": 22,
   "id": "680d7a4d",
   "metadata": {},
   "outputs": [
    {
     "name": "stdout",
     "output_type": "stream",
     "text": [
      "Enter a year2014\n",
      "Non-Leap Year\n"
     ]
    }
   ],
   "source": [
    "#Python Program to Check Leap Year\n",
    "\n",
    "n = int(input(\"Enter a year\"))\n",
    "if(n%4 == 0):\n",
    "    if(n%100 == 0):\n",
    "        if(n%400 == 0):\n",
    "            print(\"Leap Year\")\n",
    "        else:\n",
    "            print(\"Non-leap Year\")\n",
    "    else:\n",
    "        print(\"Leap Year\")\n",
    "else:\n",
    "    print(\"Non-Leap Year\")\n",
    "                "
   ]
  },
  {
   "cell_type": "code",
   "execution_count": 24,
   "id": "30860dcf",
   "metadata": {},
   "outputs": [
    {
     "name": "stdout",
     "output_type": "stream",
     "text": [
      "Enter number 1 5.7\n",
      "Enter number 2 2.68\n",
      "Enter number 3 10\n",
      "10.0 is greatest\n"
     ]
    }
   ],
   "source": [
    "#Python Program to Find the Largest Among Three Numbers\n",
    "\n",
    "l = float(input(\"Enter number 1 \"))\n",
    "m = float(input(\"Enter number 2 \"))\n",
    "n = float(input(\"Enter number 3 \"))\n",
    "if(l>m and l>n):\n",
    "    print(\"{} is greatest\".format(l))\n",
    "elif(m>l and m>n):\n",
    "    print(\"{} is greatest\".format(m))\n",
    "else:\n",
    "    print(\"{} is greatest\".format(n))"
   ]
  },
  {
   "cell_type": "code",
   "execution_count": 29,
   "id": "195dc1bc",
   "metadata": {},
   "outputs": [
    {
     "name": "stdout",
     "output_type": "stream",
     "text": [
      "Enter a Number 67\n",
      "Composite Number / Non-Prime Number\n"
     ]
    }
   ],
   "source": [
    "#Write a Python Program to check if a number is prime or not\n",
    "\n",
    "n = int(input(\"Enter a Number \"))\n",
    "if n>1:\n",
    "    for i in range(1,n):\n",
    "        if(n%i == 0):\n",
    "            print(\"Composite Number / Non-Prime Number\")\n",
    "            break\n",
    "    else:\n",
    "        print(\"Prime Number\")\n",
    "else:\n",
    "    print(\"Non-Prime Number\")\n"
   ]
  },
  {
   "cell_type": "code",
   "execution_count": 32,
   "id": "f9d0e4c9",
   "metadata": {},
   "outputs": [
    {
     "name": "stdout",
     "output_type": "stream",
     "text": [
      "Enter lower limit of the range:1\n",
      "Enter upper limit of the range:10\n",
      "1\n",
      "2\n",
      "3\n",
      "5\n",
      "7\n"
     ]
    }
   ],
   "source": [
    "#Python program to display all the prime numbers within an interval\n",
    "\n",
    "low = int(input(\"Enter lower limit of the range:\"))\n",
    "up = int(input(\"Enter upper limit of the range:\"))\n",
    "for i in range(low,up+1):\n",
    "    for j in range(2,i):\n",
    "        if(i>=1):\n",
    "            if(i%j == 0):\n",
    "                break\n",
    "    else:\n",
    "        print(i)"
   ]
  },
  {
   "cell_type": "code",
   "execution_count": 33,
   "id": "9dac9593",
   "metadata": {},
   "outputs": [
    {
     "name": "stdout",
     "output_type": "stream",
     "text": [
      "Enter a positive number 5\n",
      "5 ! =  24.0\n"
     ]
    }
   ],
   "source": [
    "#Factorial of a given number\n",
    "\n",
    "n=int(input(\"Enter a positive number \"))\n",
    "fact=1.0\n",
    "if(n<0):\n",
    "  print(\"Invalid entry!!Factorial of a negative number does't exist\")\n",
    "else:\n",
    "  for i in range(1,n):\n",
    "    fact*=i\n",
    "  print(n,\"! = \",fact)"
   ]
  },
  {
   "cell_type": "code",
   "execution_count": 34,
   "id": "a5a9192e",
   "metadata": {},
   "outputs": [
    {
     "name": "stdout",
     "output_type": "stream",
     "text": [
      "Enter a number18\n",
      "18  X  1  =  18\n",
      "18  X  2  =  36\n",
      "18  X  3  =  54\n",
      "18  X  4  =  72\n",
      "18  X  5  =  90\n",
      "18  X  6  =  108\n",
      "18  X  7  =  126\n",
      "18  X  8  =  144\n",
      "18  X  9  =  162\n",
      "18  X  10  =  180\n"
     ]
    }
   ],
   "source": [
    "#Multiplication Table\n",
    "\n",
    "n=int(input(\"Enter a number\"))\n",
    "for i in range(1,11):\n",
    "  print(n,\" X \",i,\" = \",n*i)"
   ]
  },
  {
   "cell_type": "code",
   "execution_count": 36,
   "id": "bbbe245a",
   "metadata": {},
   "outputs": [
    {
     "name": "stdout",
     "output_type": "stream",
     "text": [
      "Enter a Number5\n",
      "0\n",
      "1\n",
      "1\n",
      "2\n",
      "3\n",
      "5\n"
     ]
    }
   ],
   "source": [
    "#Python Program to Print the Fibonacci sequence\n",
    "\n",
    "n = int(input(\"Enter a Number \"))\n",
    "i = 0\n",
    "j = 1\n",
    "if (n == 0):\n",
    "    print(i)\n",
    "elif (n == 1):\n",
    "    print(j)\n",
    "else:\n",
    "    print(i)\n",
    "    print(j)\n",
    "    for m in range(2,n+1):\n",
    "        k = i + j\n",
    "        i,j = j,k\n",
    "        print(k)"
   ]
  },
  {
   "cell_type": "code",
   "execution_count": 4,
   "id": "489d41ab",
   "metadata": {},
   "outputs": [
    {
     "name": "stdout",
     "output_type": "stream",
     "text": [
      "Enter a Number 1634\n",
      "1634  Armstrong Number\n"
     ]
    }
   ],
   "source": [
    "#Python Program to Check Armstrong Number (for 3 digits)\n",
    "\n",
    "n = int(input(\"Enter a Number \"))\n",
    "sum = 0\n",
    "temp = n\n",
    "while(temp!=0):\n",
    "    rem = temp%10\n",
    "    sum+= rem ** len(str(n))\n",
    "    temp //=10\n",
    "if(n==sum):\n",
    "    print(n,\" Armstrong Number\")\n",
    "else:\n",
    "    print(n,\" Not a Armstrong Number\")\n",
    "    \n"
   ]
  },
  {
   "cell_type": "code",
   "execution_count": null,
   "id": "ce1e3a1c",
   "metadata": {},
   "outputs": [],
   "source": []
  },
  {
   "cell_type": "code",
   "execution_count": null,
   "id": "47e60217",
   "metadata": {},
   "outputs": [],
   "source": []
  }
 ],
 "metadata": {
  "kernelspec": {
   "display_name": "Python 3",
   "language": "python",
   "name": "python3"
  }
 },
 "nbformat": 4,
 "nbformat_minor": 5
}
