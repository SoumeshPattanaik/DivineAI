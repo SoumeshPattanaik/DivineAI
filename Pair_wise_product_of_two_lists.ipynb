{
  "nbformat": 4,
  "nbformat_minor": 0,
  "metadata": {
    "colab": {
      "name": "Pair-wise product of two lists.ipynb",
      "provenance": [],
      "authorship_tag": "ABX9TyNRg5SKbP/PxPwODCfbW7x9",
      "include_colab_link": true
    },
    "kernelspec": {
      "name": "python3",
      "display_name": "Python 3"
    },
    "language_info": {
      "name": "python"
    }
  },
  "cells": [
    {
      "cell_type": "markdown",
      "metadata": {
        "id": "view-in-github",
        "colab_type": "text"
      },
      "source": [
        "<a href=\"https://colab.research.google.com/github/SoumeshPattanaik/DivineAI/blob/main/Pair_wise_product_of_two_lists.ipynb\" target=\"_parent\"><img src=\"https://colab.research.google.com/assets/colab-badge.svg\" alt=\"Open In Colab\"/></a>"
      ]
    },
    {
      "cell_type": "code",
      "metadata": {
        "colab": {
          "base_uri": "https://localhost:8080/"
        },
        "id": "VyMh7QLZHLtt",
        "outputId": "e1bf705d-4f0b-4955-aa3b-977e7f6f15cc"
      },
      "source": [
        "# Calculate the pair-wise product of two lists\n",
        "list1=[2,34,5,67,4,32,0]\n",
        "list2=[2,6,7,3,2,1,12]\n",
        "print(\"Original list:\",list1)\n",
        "print(\"Original list:\",list2)\n",
        "for i in range(0,len(list1)):\n",
        "  list1[i] *= list2[i]\n",
        "print(\"Product:\",list1)"
      ],
      "execution_count": 5,
      "outputs": [
        {
          "output_type": "stream",
          "text": [
            "Original list: [2, 34, 5, 67, 4, 32, 0]\n",
            "Original list: [2, 6, 7, 3, 2, 1, 12]\n",
            "Product: [4, 204, 35, 201, 8, 32, 0]\n"
          ],
          "name": "stdout"
        }
      ]
    },
    {
      "cell_type": "code",
      "metadata": {
        "id": "lDpHeIt3ITo-"
      },
      "source": [
        ""
      ],
      "execution_count": null,
      "outputs": []
    }
  ]
}