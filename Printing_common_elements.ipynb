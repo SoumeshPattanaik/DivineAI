{
  "nbformat": 4,
  "nbformat_minor": 0,
  "metadata": {
    "colab": {
      "name": "Printing common elements.ipynb",
      "provenance": [],
      "authorship_tag": "ABX9TyOXC6vmJlWqPAfUvdVZiuAG",
      "include_colab_link": true
    },
    "kernelspec": {
      "name": "python3",
      "display_name": "Python 3"
    },
    "language_info": {
      "name": "python"
    }
  },
  "cells": [
    {
      "cell_type": "markdown",
      "metadata": {
        "id": "view-in-github",
        "colab_type": "text"
      },
      "source": [
        "<a href=\"https://colab.research.google.com/github/SoumeshPattanaik/DivineAI/blob/main/Printing_common_elements.ipynb\" target=\"_parent\"><img src=\"https://colab.research.google.com/assets/colab-badge.svg\" alt=\"Open In Colab\"/></a>"
      ]
    },
    {
      "cell_type": "code",
      "metadata": {
        "colab": {
          "base_uri": "https://localhost:8080/"
        },
        "id": "JOiRPYsFpZyq",
        "outputId": "24eb0cca-b4d5-4a8b-c229-7901f915dc14"
      },
      "source": [
        "# keep only the items that are present in both sets\n",
        "\n",
        "def common_member(a,b):\n",
        "  a_set = set(a)\n",
        "  b_set = set(b)\n",
        "\n",
        "  if len(a_set.intersection(b_set)) > 0:\n",
        "    return(a_set.intersection(b_set))\n",
        "  else:\n",
        "    return(\"No Common Elements!!\")\n",
        "\n",
        "a = [1,5,6,2,9,10]\n",
        "b = [5,6,0,11,2,67,4]\n",
        "print(common_member(a,b))"
      ],
      "execution_count": 5,
      "outputs": [
        {
          "output_type": "stream",
          "text": [
            "{2, 5, 6}\n"
          ],
          "name": "stdout"
        }
      ]
    },
    {
      "cell_type": "code",
      "metadata": {
        "id": "TybzU5gmqP_e"
      },
      "source": [
        ""
      ],
      "execution_count": null,
      "outputs": []
    }
  ]
}