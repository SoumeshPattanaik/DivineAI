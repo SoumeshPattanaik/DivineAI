{
 "cells": [
  {
   "cell_type": "code",
   "execution_count": 3,
   "id": "520c3b8b",
   "metadata": {},
   "outputs": [],
   "source": [
    "import pandas as pd\n",
    "import numpy as np"
   ]
  },
  {
   "cell_type": "code",
   "execution_count": 4,
   "id": "7f96887c",
   "metadata": {},
   "outputs": [
    {
     "data": {
      "text/plain": [
       "49   NaN\n",
       "48   NaN\n",
       "47   NaN\n",
       "46   NaN\n",
       "45   NaN\n",
       "1    NaN\n",
       "2    NaN\n",
       "3    NaN\n",
       "4    NaN\n",
       "5    NaN\n",
       "dtype: float64"
      ]
     },
     "execution_count": 4,
     "metadata": {},
     "output_type": "execute_result"
    }
   ],
   "source": [
    "s=pd.Series(np.nan,index=[49,48,47,46,45, 1, 2, 3, 4, 5])\n",
    "s"
   ]
  },
  {
   "cell_type": "code",
   "execution_count": 5,
   "id": "b81d4095",
   "metadata": {},
   "outputs": [
    {
     "data": {
      "text/plain": [
       "49   NaN\n",
       "48   NaN\n",
       "47   NaN\n",
       "dtype: float64"
      ]
     },
     "execution_count": 5,
     "metadata": {},
     "output_type": "execute_result"
    }
   ],
   "source": [
    "s.iloc[:3]"
   ]
  },
  {
   "cell_type": "code",
   "execution_count": 7,
   "id": "bea53787",
   "metadata": {},
   "outputs": [
    {
     "data": {
      "text/plain": [
       "49   NaN\n",
       "48   NaN\n",
       "47   NaN\n",
       "46   NaN\n",
       "45   NaN\n",
       "1    NaN\n",
       "2    NaN\n",
       "3    NaN\n",
       "dtype: float64"
      ]
     },
     "execution_count": 7,
     "metadata": {},
     "output_type": "execute_result"
    }
   ],
   "source": [
    "s.loc[:3]"
   ]
  },
  {
   "cell_type": "code",
   "execution_count": 8,
   "id": "b695255d",
   "metadata": {},
   "outputs": [
    {
     "data": {
      "text/plain": [
       "49   NaN\n",
       "48   NaN\n",
       "47   NaN\n",
       "46   NaN\n",
       "45   NaN\n",
       "1    NaN\n",
       "dtype: float64"
      ]
     },
     "execution_count": 8,
     "metadata": {},
     "output_type": "execute_result"
    }
   ],
   "source": [
    "s.iloc[:6]"
   ]
  },
  {
   "cell_type": "code",
   "execution_count": null,
   "id": "880a8fb7",
   "metadata": {},
   "outputs": [],
   "source": []
  }
 ],
 "metadata": {
  "kernelspec": {
   "display_name": "Python 3",
   "language": "python",
   "name": "python3"
  },
  "language_info": {
   "codemirror_mode": {
    "name": "ipython",
    "version": 3
   },
   "file_extension": ".py",
   "mimetype": "text/x-python",
   "name": "python",
   "nbconvert_exporter": "python",
   "pygments_lexer": "ipython3",
   "version": "3.8.8"
  }
 },
 "nbformat": 4,
 "nbformat_minor": 5
}
