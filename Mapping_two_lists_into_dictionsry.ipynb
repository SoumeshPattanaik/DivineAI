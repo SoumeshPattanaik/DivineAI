{
  "nbformat": 4,
  "nbformat_minor": 0,
  "metadata": {
    "colab": {
      "name": "Mapping two lists into dictionsry.ipynb",
      "provenance": [],
      "authorship_tag": "ABX9TyNI4/ucK7TfaodFXz8FqQii",
      "include_colab_link": true
    },
    "kernelspec": {
      "name": "python3",
      "display_name": "Python 3"
    },
    "language_info": {
      "name": "python"
    }
  },
  "cells": [
    {
      "cell_type": "markdown",
      "metadata": {
        "id": "view-in-github",
        "colab_type": "text"
      },
      "source": [
        "<a href=\"https://colab.research.google.com/github/SoumeshPattanaik/DivineAI/blob/main/Mapping_two_lists_into_dictionsry.ipynb\" target=\"_parent\"><img src=\"https://colab.research.google.com/assets/colab-badge.svg\" alt=\"Open In Colab\"/></a>"
      ]
    },
    {
      "cell_type": "code",
      "metadata": {
        "colab": {
          "base_uri": "https://localhost:8080/"
        },
        "id": "fXsAlbAZqxK7",
        "outputId": "01822fce-2c70-4ec0-df5c-c3d63f6e627d"
      },
      "source": [
        "# Python Program to Map two lists into a Dictionary\n",
        "list_1 = ['Geneva','New Delhi','Paris','NYC','Wuhan']\n",
        "list_2 = ['#ECOSOC','#MTCR','#BECA','#COMCASA','#OTH']\n",
        "aggrement_dictionary = dict(zip(list_1,list_2))\n",
        "print(aggrement_dictionary)"
      ],
      "execution_count": 1,
      "outputs": [
        {
          "output_type": "stream",
          "text": [
            "{'Geneva': '#ECOSOC', 'New Delhi': '#MTCR', 'Paris': '#BECA', 'NYC': '#COMCASA', 'Wuhan': '#OTH'}\n"
          ],
          "name": "stdout"
        }
      ]
    },
    {
      "cell_type": "code",
      "metadata": {
        "id": "ZNrBteRwrrSL"
      },
      "source": [
        ""
      ],
      "execution_count": null,
      "outputs": []
    }
  ]
}