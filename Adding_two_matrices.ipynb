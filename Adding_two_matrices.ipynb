{
  "nbformat": 4,
  "nbformat_minor": 0,
  "metadata": {
    "colab": {
      "name": "Adding two matrices.ipynb",
      "provenance": [],
      "authorship_tag": "ABX9TyOJAijy9+Q3EtUaKwhFiNhm",
      "include_colab_link": true
    },
    "kernelspec": {
      "name": "python3",
      "display_name": "Python 3"
    },
    "language_info": {
      "name": "python"
    }
  },
  "cells": [
    {
      "cell_type": "markdown",
      "metadata": {
        "id": "view-in-github",
        "colab_type": "text"
      },
      "source": [
        "<a href=\"https://colab.research.google.com/github/SoumeshPattanaik/DivineAI/blob/main/Adding_two_matrices.ipynb\" target=\"_parent\"><img src=\"https://colab.research.google.com/assets/colab-badge.svg\" alt=\"Open In Colab\"/></a>"
      ]
    },
    {
      "cell_type": "code",
      "metadata": {
        "colab": {
          "base_uri": "https://localhost:8080/"
        },
        "id": "uFQTFRyK7lbz",
        "outputId": "dc9e7472-8fdb-4e12-91d1-df16530da2c4"
      },
      "source": [
        "# Python Program to Add Two Matrices\n",
        "\n",
        "import numpy as np\n",
        "\n",
        "R = int(input(\"Enter the number of rows:\"))\n",
        "C = int(input(\"Enter the number of columns:\"))\n",
        "result=[[0,0,0],\n",
        "        [0,0,0],\n",
        "        [0,0,0]]\n",
        "\n",
        "#User input for matrix 1\n",
        "print(\"Enter the entries in a single line (separated by space) for matrix1: \")\n",
        "entries = list(map(int, input().split()))\n",
        "\n",
        "  \n",
        "# For printing the matrix 1\n",
        "matrix1 = np.array(entries).reshape(R, C)\n",
        "print(matrix1)\n",
        "\n",
        "#User input for matrix 2\n",
        "print(\"Enter the entries in a single line (separated by space) for matrix2: \")\n",
        "entries = list(map(int, input().split()))\n",
        "\n",
        "  \n",
        "# For printing the matrix 1\n",
        "matrix2 = np.array(entries).reshape(R, C)\n",
        "print(matrix2)\n",
        "print('\\n')\n",
        "print(\"Result=\\n\")\n",
        "\n",
        "# Addition of above matrices\n",
        "for i in range(len(matrix1)):\n",
        "  for j in range(len(matrix1[0])): #Iterating through columns\n",
        "    result[i][j]=matrix1[i][j]+matrix2[i][j]\n",
        "\n",
        "# printing Result\n",
        "for k in result:\n",
        "  print(k)"
      ],
      "execution_count": 14,
      "outputs": [
        {
          "output_type": "stream",
          "text": [
            "Enter the number of rows:2\n",
            "Enter the number of columns:2\n",
            "Enter the entries in a single line (separated by space) for matrix1: \n",
            "1 2 3 4\n",
            "[[1 2]\n",
            " [3 4]]\n",
            "Enter the entries in a single line (separated by space) for matrix2: \n",
            "5 6 7 8\n",
            "[[5 6]\n",
            " [7 8]]\n",
            "\n",
            "\n",
            "Result=\n",
            "\n",
            "[6, 8, 0]\n",
            "[10, 12, 0]\n",
            "[0, 0, 0]\n"
          ],
          "name": "stdout"
        }
      ]
    },
    {
      "cell_type": "code",
      "metadata": {
        "id": "9OcpwsxK-bMA"
      },
      "source": [
        ""
      ],
      "execution_count": null,
      "outputs": []
    }
  ]
}