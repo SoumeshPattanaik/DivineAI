{
  "nbformat": 4,
  "nbformat_minor": 0,
  "metadata": {
    "colab": {
      "name": "All Characters other than integers.ipynb",
      "provenance": [],
      "authorship_tag": "ABX9TyM/ADD1a+mjqprDZ1d/jLfs",
      "include_colab_link": true
    },
    "kernelspec": {
      "name": "python3",
      "display_name": "Python 3"
    },
    "language_info": {
      "name": "python"
    }
  },
  "cells": [
    {
      "cell_type": "markdown",
      "metadata": {
        "id": "view-in-github",
        "colab_type": "text"
      },
      "source": [
        "<a href=\"https://colab.research.google.com/github/SoumeshPattanaik/DivineAI/blob/main/All_Characters_other_than_integers.ipynb\" target=\"_parent\"><img src=\"https://colab.research.google.com/assets/colab-badge.svg\" alt=\"Open In Colab\"/></a>"
      ]
    },
    {
      "cell_type": "code",
      "metadata": {
        "colab": {
          "base_uri": "https://localhost:8080/"
        },
        "id": "VN4GEU9rluMB",
        "outputId": "20c04752-2659-4f0b-91d8-df7398222e3f"
      },
      "source": [
        "# Removal all the characters other than integers from string\n",
        "a_string = 'a#.23)1^6'\n",
        "print(\"Initial String:\",a_string)\n",
        "getVals = list([val for val in a_string if val.isalnum()])\n",
        "result = \"\".join(getVals)\n",
        "print(\"Final String:\",result)"
      ],
      "execution_count": 7,
      "outputs": [
        {
          "output_type": "stream",
          "text": [
            "Initial String: a#.23)1^6\n",
            "Final String: a2316\n"
          ],
          "name": "stdout"
        }
      ]
    },
    {
      "cell_type": "code",
      "metadata": {
        "id": "CA6Zp9TsmYx2"
      },
      "source": [
        ""
      ],
      "execution_count": null,
      "outputs": []
    }
  ]
}