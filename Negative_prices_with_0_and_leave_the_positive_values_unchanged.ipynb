{
  "nbformat": 4,
  "nbformat_minor": 0,
  "metadata": {
    "colab": {
      "name": "Negative prices with 0 and leave the positive values unchanged.ipynb",
      "provenance": [],
      "authorship_tag": "ABX9TyP2+wrglIKAw4CDDOCX7MYR",
      "include_colab_link": true
    },
    "kernelspec": {
      "name": "python3",
      "display_name": "Python 3"
    },
    "language_info": {
      "name": "python"
    }
  },
  "cells": [
    {
      "cell_type": "markdown",
      "metadata": {
        "id": "view-in-github",
        "colab_type": "text"
      },
      "source": [
        "<a href=\"https://colab.research.google.com/github/SoumeshPattanaik/DivineAI/blob/main/Negative_prices_with_0_and_leave_the_positive_values_unchanged.ipynb\" target=\"_parent\"><img src=\"https://colab.research.google.com/assets/colab-badge.svg\" alt=\"Open In Colab\"/></a>"
      ]
    },
    {
      "cell_type": "code",
      "metadata": {
        "colab": {
          "base_uri": "https://localhost:8080/"
        },
        "id": "3sTRADTHP56y",
        "outputId": "e2bcd056-165c-4d61-efcc-397d3050d034"
      },
      "source": [
        "# Replace negative prices with 0 and leave the positive values unchanged in a list\n",
        "my_list=[-1,-2,-3,6,4,2,2,15,-7,89]\n",
        "for i in range(0,len(my_list)):\n",
        "  if(my_list[i]<0):\n",
        "    my_list[i]=0\n",
        "print(my_list)"
      ],
      "execution_count": 2,
      "outputs": [
        {
          "output_type": "stream",
          "text": [
            "[0, 0, 0, 6, 4, 2, 2, 15, 0, 89]\n"
          ],
          "name": "stdout"
        }
      ]
    },
    {
      "cell_type": "code",
      "metadata": {
        "id": "PJQkH3PzQdme"
      },
      "source": [
        ""
      ],
      "execution_count": null,
      "outputs": []
    }
  ]
}