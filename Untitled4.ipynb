{
  "nbformat": 4,
  "nbformat_minor": 0,
  "metadata": {
    "colab": {
      "name": "Untitled4.ipynb",
      "provenance": [],
      "authorship_tag": "ABX9TyPc1XquI4ozQYb3UKeYYhWo",
      "include_colab_link": true
    },
    "kernelspec": {
      "name": "python3",
      "display_name": "Python 3"
    },
    "language_info": {
      "name": "python"
    }
  },
  "cells": [
    {
      "cell_type": "markdown",
      "metadata": {
        "id": "view-in-github",
        "colab_type": "text"
      },
      "source": [
        "<a href=\"https://colab.research.google.com/github/SoumeshPattanaik/DivineAI/blob/main/Untitled4.ipynb\" target=\"_parent\"><img src=\"https://colab.research.google.com/assets/colab-badge.svg\" alt=\"Open In Colab\"/></a>"
      ]
    },
    {
      "cell_type": "code",
      "metadata": {
        "colab": {
          "base_uri": "https://localhost:8080/"
        },
        "id": "ldx5gCXlL7Eq",
        "outputId": "a553a136-26d6-43ab-abe3-0daa80b0d7d6"
      },
      "source": [
        "# Python program to Sort the list in descending order\n",
        "my_list=[1,3,-32,-19,13,456,-11123,0]\n",
        "print(\"Original list:\",my_list)\n",
        "my_list.sort(reverse=True)\n",
        "print(\"After sorting in descending order:\",my_list)"
      ],
      "execution_count": 3,
      "outputs": [
        {
          "output_type": "stream",
          "text": [
            "Original list: [1, 3, -32, -19, 13, 456, -11123, 0]\n",
            "After sorting in descending order: [456, 13, 3, 1, 0, -19, -32, -11123]\n"
          ],
          "name": "stdout"
        }
      ]
    },
    {
      "cell_type": "code",
      "metadata": {
        "id": "PlTul67WMDnO"
      },
      "source": [
        ""
      ],
      "execution_count": null,
      "outputs": []
    }
  ]
}