{
  "nbformat": 4,
  "nbformat_minor": 0,
  "metadata": {
    "colab": {
      "name": "Join two sets.ipynb",
      "provenance": [],
      "authorship_tag": "ABX9TyNJzRraGM1e1gHdo5b1y2dE",
      "include_colab_link": true
    },
    "kernelspec": {
      "name": "python3",
      "display_name": "Python 3"
    },
    "language_info": {
      "name": "python"
    }
  },
  "cells": [
    {
      "cell_type": "markdown",
      "metadata": {
        "id": "view-in-github",
        "colab_type": "text"
      },
      "source": [
        "<a href=\"https://colab.research.google.com/github/SoumeshPattanaik/DivineAI/blob/main/Join_two_sets.ipynb\" target=\"_parent\"><img src=\"https://colab.research.google.com/assets/colab-badge.svg\" alt=\"Open In Colab\"/></a>"
      ]
    },
    {
      "cell_type": "code",
      "metadata": {
        "colab": {
          "base_uri": "https://localhost:8080/"
        },
        "id": "by_ixiYTNn_Q",
        "outputId": "20b88e86-6032-4eba-9a28-bb4a970f409f"
      },
      "source": [
        "# Joining Two Sets\n",
        "\n",
        "set1={\"A\",\"B\",\"C\",\"A\"}\n",
        "set2={1.1,4,3}\n",
        "set3=set1.union(set2) # Using union,removes all duplicates \n",
        "print(set3)"
      ],
      "execution_count": 9,
      "outputs": [
        {
          "output_type": "stream",
          "text": [
            "{1.1, 'C', 3, 4, 'A', 'B'}\n"
          ],
          "name": "stdout"
        }
      ]
    },
    {
      "cell_type": "code",
      "metadata": {
        "colab": {
          "base_uri": "https://localhost:8080/"
        },
        "id": "RIrpRHnjONIS",
        "outputId": "8f076d5d-671c-44ab-a250-883a68f816fa"
      },
      "source": [
        "set1={\"A\",\"B\",\"C\",\"A\"}\n",
        "set2={1.1,4,3}\n",
        "set1.update(set2) # Using update,removes all duplicates\n",
        "print(set1)"
      ],
      "execution_count": 6,
      "outputs": [
        {
          "output_type": "stream",
          "text": [
            "{1.1, 'C', 3, 4, 'A', 'B'}\n"
          ],
          "name": "stdout"
        }
      ]
    },
    {
      "cell_type": "code",
      "metadata": {
        "id": "aZMbanGfOcdZ"
      },
      "source": [
        ""
      ],
      "execution_count": null,
      "outputs": []
    }
  ]
}