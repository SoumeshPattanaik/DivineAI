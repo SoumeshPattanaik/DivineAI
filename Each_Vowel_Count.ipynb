{
  "nbformat": 4,
  "nbformat_minor": 0,
  "metadata": {
    "colab": {
      "name": "Each Vowel Count.ipynb",
      "provenance": [],
      "authorship_tag": "ABX9TyN/L5padljtRiikSQMmbZ29",
      "include_colab_link": true
    },
    "kernelspec": {
      "name": "python3",
      "display_name": "Python 3"
    },
    "language_info": {
      "name": "python"
    }
  },
  "cells": [
    {
      "cell_type": "markdown",
      "metadata": {
        "id": "view-in-github",
        "colab_type": "text"
      },
      "source": [
        "<a href=\"https://colab.research.google.com/github/SoumeshPattanaik/DivineAI/blob/main/Each_Vowel_Count.ipynb\" target=\"_parent\"><img src=\"https://colab.research.google.com/assets/colab-badge.svg\" alt=\"Open In Colab\"/></a>"
      ]
    },
    {
      "cell_type": "code",
      "metadata": {
        "colab": {
          "base_uri": "https://localhost:8080/"
        },
        "id": "8WAe3xo8CSWe",
        "outputId": "c7409a9a-82a5-4604-ca9f-3ec80ef25688"
      },
      "source": [
        "# Python Program to Count the Number of Each Vowel \n",
        "\n",
        "# String of vowels\n",
        "vowels = 'aeiou'\n",
        "str = 'Python Program to Count the Number of Each Vowel '\n",
        "\n",
        "# Making suitable regardless of case\n",
        "str = str.casefold()\n",
        "\n",
        "# Making a dictionary with each vowel a key and value 0\n",
        "count = {}.fromkeys(vowels,0)\n",
        "\n",
        "# count the vowels\n",
        "for char in str:\n",
        "   if char in count:\n",
        "       count[char] += 1\n",
        "\n",
        "print(count)\n"
      ],
      "execution_count": 1,
      "outputs": [
        {
          "output_type": "stream",
          "text": [
            "{'a': 2, 'e': 4, 'i': 0, 'o': 6, 'u': 2}\n"
          ],
          "name": "stdout"
        }
      ]
    },
    {
      "cell_type": "code",
      "metadata": {
        "id": "7iHGfE5UDY2j"
      },
      "source": [
        ""
      ],
      "execution_count": null,
      "outputs": []
    }
  ]
}