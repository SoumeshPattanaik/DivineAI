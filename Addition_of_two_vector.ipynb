{
  "nbformat": 4,
  "nbformat_minor": 0,
  "metadata": {
    "colab": {
      "name": "Addition of two vector.ipynb",
      "provenance": [],
      "authorship_tag": "ABX9TyOpjGEEd04+ZvsCbNkYSNiX",
      "include_colab_link": true
    },
    "kernelspec": {
      "name": "python3",
      "display_name": "Python 3"
    },
    "language_info": {
      "name": "python"
    }
  },
  "cells": [
    {
      "cell_type": "markdown",
      "metadata": {
        "id": "view-in-github",
        "colab_type": "text"
      },
      "source": [
        "<a href=\"https://colab.research.google.com/github/SoumeshPattanaik/DivineAI/blob/main/Addition_of_two_vector.ipynb\" target=\"_parent\"><img src=\"https://colab.research.google.com/assets/colab-badge.svg\" alt=\"Open In Colab\"/></a>"
      ]
    },
    {
      "cell_type": "code",
      "metadata": {
        "colab": {
          "base_uri": "https://localhost:8080/"
        },
        "id": "koHdJJ9lNyWE",
        "outputId": "81438307-d0b0-4469-a385-232237811b19"
      },
      "source": [
        "# Addition of two vector\n",
        "import numpy as np\n",
        "A=[49,5,3]\n",
        "B=[9,12,6]\n",
        "print(\"Input arrays are\\n\",\"A:\",A,\"\\n\",\"B:\",B)\n",
        "res1=np.add(A,B)\n",
        "print(\"Sum:\",res1)"
      ],
      "execution_count": 2,
      "outputs": [
        {
          "output_type": "stream",
          "text": [
            "Input arrays are\n",
            " A: [49, 5, 3] \n",
            " B: [9, 12, 6]\n",
            "Sum: [58 17  9]\n"
          ],
          "name": "stdout"
        }
      ]
    },
    {
      "cell_type": "code",
      "metadata": {
        "id": "_aBNFHvgOge7"
      },
      "source": [
        ""
      ],
      "execution_count": null,
      "outputs": []
    }
  ]
}