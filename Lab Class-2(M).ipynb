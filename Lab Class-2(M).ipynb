{
 "cells": [
  {
   "cell_type": "code",
   "execution_count": 10,
   "id": "88881614",
   "metadata": {},
   "outputs": [
    {
     "name": "stdout",
     "output_type": "stream",
     "text": [
      "a is greater \n"
     ]
    }
   ],
   "source": [
    "a=200\n",
    "b=33\n",
    "if b>a:\n",
    "    print(\"b is greater than a\")\n",
    "elif a==b:\n",
    "    print(\"a and b are equal\")\n",
    "else:\n",
    "    print(\"a is greater \")"
   ]
  },
  {
   "cell_type": "code",
   "execution_count": 11,
   "id": "b7883af2",
   "metadata": {},
   "outputs": [
    {
     "name": "stdout",
     "output_type": "stream",
     "text": [
      "a is greater than b\n"
     ]
    }
   ],
   "source": [
    "#Short hand if and if..else\n",
    "if a>b:print(\"a is greater than b\")"
   ]
  },
  {
   "cell_type": "code",
   "execution_count": 23,
   "id": "aeb85032",
   "metadata": {},
   "outputs": [
    {
     "name": "stdout",
     "output_type": "stream",
     "text": [
      "Equals\n"
     ]
    }
   ],
   "source": [
    "#Short hand if and if..else\n",
    "a=330\n",
    "b=330\n",
    "print(\"A\") if a>b else print(\"Equals\") if a==b else print(\"B\")"
   ]
  },
  {
   "cell_type": "code",
   "execution_count": 20,
   "id": "49fe9966",
   "metadata": {},
   "outputs": [
    {
     "name": "stdout",
     "output_type": "stream",
     "text": [
      " Side176\n",
      " Side276\n",
      "Square\n"
     ]
    }
   ],
   "source": [
    "l=int(input(\" Side1\"))\n",
    "b=int(input(\" Side2\"))\n",
    "if(l>b):\n",
    "    print(\"Length= \",l)\n",
    "    print(\"Breadth= \",b)\n",
    "elif(l<b):\n",
    "    print(\"Length= \",b)\n",
    "    print(\"Breadth= \",l)\n",
    "print(\"Square\") if l==b else print(\"Rectangle\")"
   ]
  },
  {
   "cell_type": "code",
   "execution_count": 24,
   "id": "8e7f4958",
   "metadata": {},
   "outputs": [
    {
     "name": "stdout",
     "output_type": "stream",
     "text": [
      "11\n",
      "9\n",
      "89\n"
     ]
    }
   ],
   "source": [
    "\"\"\"Pass Statement:\n",
    "    Results in no operation\"\"\"\n",
    "for num in[20,11,9,66,4,89,44]:\n",
    "    if num%2==0:\n",
    "        pass\n",
    "    else:\n",
    "        print(num)"
   ]
  },
  {
   "cell_type": "code",
   "execution_count": 25,
   "id": "899090f9",
   "metadata": {},
   "outputs": [
    {
     "name": "stdout",
     "output_type": "stream",
     "text": [
      "s\n",
      "t\n",
      "r\n",
      "n\n",
      "g\n",
      "The End\n"
     ]
    }
   ],
   "source": [
    "\"\"\"Continue Statement:\n",
    "    The continue statement is used to skip the rest of the code inside a loop for the current iteration only.\n",
    "    Loop does not terminate but continues on with the next iteration\"\"\"\n",
    "for val in \"string\":\n",
    "    if val==\"i\":\n",
    "        continue\n",
    "    print(val)\n",
    "print(\"The End\")"
   ]
  },
  {
   "cell_type": "code",
   "execution_count": 27,
   "id": "a1a81b10",
   "metadata": {},
   "outputs": [
    {
     "name": "stdout",
     "output_type": "stream",
     "text": [
      "s\n",
      "t\n",
      "r\n",
      "The End\n"
     ]
    }
   ],
   "source": [
    "\"\"\"Break Statement:\n",
    "    Terminates the loop containing it.\"\"\"\n",
    "for val in \"string\":\n",
    "    if val==\"i\":\n",
    "        break\n",
    "    print(val)\n",
    "print(\"The End\")"
   ]
  },
  {
   "cell_type": "code",
   "execution_count": 29,
   "id": "ceb2705b",
   "metadata": {},
   "outputs": [
    {
     "name": "stdout",
     "output_type": "stream",
     "text": [
      "0\n",
      "1\n",
      "2\n",
      "3\n",
      "4\n",
      "5\n"
     ]
    }
   ],
   "source": [
    "i=0\n",
    "while i<6:\n",
    "    print(i)\n",
    "    i+=1"
   ]
  },
  {
   "cell_type": "code",
   "execution_count": 31,
   "id": "fe350bc3",
   "metadata": {},
   "outputs": [
    {
     "name": "stdout",
     "output_type": "stream",
     "text": [
      "apple\n",
      "banana\n",
      "cherry\n"
     ]
    }
   ],
   "source": [
    "fruits=[\"apple\",\"banana\",\"cherry\"]\n",
    "for X in fruits:\n",
    "    print(X)"
   ]
  },
  {
   "cell_type": "code",
   "execution_count": 36,
   "id": "053a0701",
   "metadata": {},
   "outputs": [
    {
     "name": "stdout",
     "output_type": "stream",
     "text": [
      "4\n",
      "6\n",
      "8\n",
      "10\n",
      "12\n",
      "14\n",
      "16\n",
      "18\n"
     ]
    }
   ],
   "source": [
    "for i in range(4,20,2):\n",
    "    print(i)"
   ]
  },
  {
   "cell_type": "code",
   "execution_count": 37,
   "id": "c51e38af",
   "metadata": {},
   "outputs": [
    {
     "name": "stdout",
     "output_type": "stream",
     "text": [
      "4 6 8 10 12 14 16 18 "
     ]
    }
   ],
   "source": [
    "for i in range(4,20,2):\n",
    "    print(i,end=' ')"
   ]
  },
  {
   "cell_type": "code",
   "execution_count": 40,
   "id": "42b7a78f",
   "metadata": {},
   "outputs": [
    {
     "name": "stdout",
     "output_type": "stream",
     "text": [
      "Enter a number5\n",
      "15\n"
     ]
    }
   ],
   "source": [
    "n=int(input(\"Enter a number\"))\n",
    "sum=0\n",
    "for i in range(n+1):\n",
    "    sum+=i\n",
    "print(sum)"
   ]
  },
  {
   "cell_type": "code",
   "execution_count": 48,
   "id": "1f353d5c",
   "metadata": {},
   "outputs": [
    {
     "name": "stdout",
     "output_type": "stream",
     "text": [
      "34\n",
      "unmarried\n",
      "[True, 40, 'male']\n",
      "['abc', True, 'male']\n"
     ]
    }
   ],
   "source": [
    "list1=[\"abc\",34,True,40,\"male\",\"unmarried\"]\n",
    "print(list1[1])\n",
    "print(list1[-1])\n",
    "print(list1[2:5])\n",
    "print(list1[::2])"
   ]
  },
  {
   "cell_type": "code",
   "execution_count": 52,
   "id": "01ad90c5",
   "metadata": {},
   "outputs": [
    {
     "name": "stdout",
     "output_type": "stream",
     "text": [
      "['apple', 'blackcurrent', 'cherry']\n",
      "['apple', 'blackcurrant', 'Watermelon']\n"
     ]
    }
   ],
   "source": [
    "thislist=[\"apple\",\"banana\",\"cherry\"]\n",
    "thislist[1]=\"blackcurrent\"#Change item value\n",
    "print(thislist)\n",
    "thislist[1:3]=[\"blackcurrant\",\"Watermelon\"]#Change a range of Item value\n",
    "print(thislist)"
   ]
  },
  {
   "cell_type": "code",
   "execution_count": 53,
   "id": "42410158",
   "metadata": {},
   "outputs": [
    {
     "name": "stdout",
     "output_type": "stream",
     "text": [
      "['apple', 'blackcurrant', 'strawberry', 'Watermelon']\n"
     ]
    }
   ],
   "source": [
    "#insert items\n",
    "thislist.insert(2,\"strawberry\")\n",
    "print(thislist)"
   ]
  },
  {
   "cell_type": "code",
   "execution_count": 54,
   "id": "a16957dd",
   "metadata": {},
   "outputs": [
    {
     "name": "stdout",
     "output_type": "stream",
     "text": [
      "['apple', 'blackcurrant', 'strawberry', 'Watermelon', 'Orange']\n"
     ]
    }
   ],
   "source": [
    "#Append Items\n",
    "thislist.append(\"Orange\")\n",
    "print(thislist)"
   ]
  },
  {
   "cell_type": "code",
   "execution_count": null,
   "id": "4bc410b4",
   "metadata": {},
   "outputs": [],
   "source": [
    "#Extend list\n",
    "thislist=[\"apple\",\"banana\",\"cherry\"]\n",
    "tropical=[\"mango\",\"pineapple\",\"papaya\"]\n",
    "thislist.extend(tropical)\n",
    "print(thislist)"
   ]
  },
  {
   "cell_type": "code",
   "execution_count": null,
   "id": "ed3e7031",
   "metadata": {},
   "outputs": [],
   "source": [
    "thislist=[\"ornge\",\"mango\",\"kiwi\",\"pineapple\",\"banana\"]\n",
    "thislist.sort()\n",
    "print(thislist)\n",
    "thislist.sort(reverse=True)\n",
    "print(thislist)"
   ]
  },
  {
   "cell_type": "code",
   "execution_count": 5,
   "id": "32834191",
   "metadata": {},
   "outputs": [
    {
     "name": "stdout",
     "output_type": "stream",
     "text": [
      "\n",
      " Enter Number of Elements you wish to enter: 4\n",
      "\n",
      " Enter Element : 7.09\n",
      "\n",
      " Enter Element : 65\n",
      "\n",
      " Enter Element : 876\n",
      "\n",
      " Enter Element : hfyh\n",
      "\n",
      " thislist :  ['7.09', '65', '876', 'hfyh']\n",
      "['65', '7.09', '876', 'hfyh']\n",
      "['hfyh', '876', '7.09', '65']\n"
     ]
    }
   ],
   "source": [
    "thislist =[] \n",
    "  \n",
    "n = int(input(\"\\n Enter Number of Elements you wish to enter: \"))\n",
    "  \n",
    "for i in range(n):\n",
    "    element = input(\"\\n Enter Element : \")\n",
    "    thislist.append(element)\n",
    "      \n",
    "print(\"\\n thislist : \", thislist)\n",
    "thislist.sort()\n",
    "print(thislist)\n",
    "thislist.sort(reverse=True)\n",
    "print(thislist)"
   ]
  },
  {
   "cell_type": "code",
   "execution_count": 12,
   "id": "653598b5",
   "metadata": {},
   "outputs": [
    {
     "name": "stdout",
     "output_type": "stream",
     "text": [
      "[0, 1, 2, 3, 4]\n"
     ]
    }
   ],
   "source": [
    "newlist=[x for x in range(0,40) if x<5]\n",
    "print(newlist)"
   ]
  },
  {
   "cell_type": "code",
   "execution_count": 13,
   "id": "a1ff3589",
   "metadata": {},
   "outputs": [
    {
     "name": "stdout",
     "output_type": "stream",
     "text": [
      "banana\n",
      "cherry\n",
      "('kiwi', 'melon')\n",
      "()\n",
      "()\n"
     ]
    }
   ],
   "source": [
    "thistuple=(\"apple\",\"banana\",\"cherry\",\"kiwi\",\"melon\",\"mango\")\n",
    "print(thistuple[1])\n",
    "print(thistuple[-4])\n",
    "print(thistuple[3:5])\n",
    "print(thistuple[-4:1])\n",
    "print(thistuple[-3:1])\n"
   ]
  },
  {
   "cell_type": "markdown",
   "id": "5b2f91f8",
   "metadata": {},
   "source": [
    "# Sets"
   ]
  },
  {
   "cell_type": "code",
   "execution_count": 1,
   "id": "a6cb844f",
   "metadata": {},
   "outputs": [
    {
     "name": "stdout",
     "output_type": "stream",
     "text": [
      "{'banana', 'apple', 'cherry'}\n"
     ]
    }
   ],
   "source": [
    "set1={\"apple\",\"banana\",\"cherry\"}\n",
    "print(set1)"
   ]
  },
  {
   "cell_type": "code",
   "execution_count": 2,
   "id": "fdb9217e",
   "metadata": {},
   "outputs": [
    {
     "name": "stdout",
     "output_type": "stream",
     "text": [
      "3\n"
     ]
    }
   ],
   "source": [
    "print(len(set1))"
   ]
  },
  {
   "cell_type": "code",
   "execution_count": 3,
   "id": "830ab778",
   "metadata": {},
   "outputs": [
    {
     "name": "stdout",
     "output_type": "stream",
     "text": [
      "{'banana', 'apple', 'cherry'}\n"
     ]
    }
   ],
   "source": [
    "# USing the set() to make a set\n",
    "\n",
    "set2=set({\"apple\",\"banana\",\"cherry\"})# note the double-round brackets\n",
    "print(set2)"
   ]
  },
  {
   "cell_type": "code",
   "execution_count": 4,
   "id": "312da3c8",
   "metadata": {},
   "outputs": [
    {
     "name": "stdout",
     "output_type": "stream",
     "text": [
      "banana\n",
      "apple\n",
      "cherry\n",
      "\n",
      "\n"
     ]
    },
    {
     "ename": "NameError",
     "evalue": "name 'ptint' is not defined",
     "output_type": "error",
     "traceback": [
      "\u001b[1;31m---------------------------------------------------------------------------\u001b[0m",
      "\u001b[1;31mNameError\u001b[0m                                 Traceback (most recent call last)",
      "\u001b[1;32m<ipython-input-4-ef913f1e11ca>\u001b[0m in \u001b[0;36m<module>\u001b[1;34m\u001b[0m\n\u001b[0;32m      3\u001b[0m     \u001b[0mprint\u001b[0m\u001b[1;33m(\u001b[0m\u001b[0mx\u001b[0m\u001b[1;33m)\u001b[0m\u001b[1;33m\u001b[0m\u001b[1;33m\u001b[0m\u001b[0m\n\u001b[0;32m      4\u001b[0m \u001b[0mprint\u001b[0m\u001b[1;33m(\u001b[0m\u001b[1;34m\"\\n\"\u001b[0m\u001b[1;33m)\u001b[0m\u001b[1;33m\u001b[0m\u001b[1;33m\u001b[0m\u001b[0m\n\u001b[1;32m----> 5\u001b[1;33m \u001b[0mptint\u001b[0m\u001b[1;33m(\u001b[0m\u001b[1;34m\"banana\"\u001b[0m \u001b[1;32min\u001b[0m \u001b[0mset\u001b[0m\u001b[1;33m)\u001b[0m\u001b[1;33m\u001b[0m\u001b[1;33m\u001b[0m\u001b[0m\n\u001b[0m",
      "\u001b[1;31mNameError\u001b[0m: name 'ptint' is not defined"
     ]
    }
   ],
   "source": [
    "set={\"apple\",\"banana\",\"cherry\"}\n",
    "for x in set:\n",
    "    print(x)\n",
    "print(\"\\n\")\n",
    "ptint(\"banana\" in set)"
   ]
  },
  {
   "cell_type": "code",
   "execution_count": 6,
   "id": "aabbb762",
   "metadata": {},
   "outputs": [
    {
     "name": "stdout",
     "output_type": "stream",
     "text": [
      "{'banana', 'apple', 'orange', 'cherry'}\n",
      "\n",
      "\n",
      "{'banana', 'cherry', 'pineapple', 'apple', 'papaya', 'mango'}\n",
      "\n",
      "\n",
      "{'banana', 'apple', 'cherry'}\n"
     ]
    }
   ],
   "source": [
    "#add()\n",
    "set.add(\"orange\")\n",
    "print(set)\n",
    "print(\"\\n\")\n",
    "\n",
    "#update()\n",
    "set={\"apple\",\"banana\",\"cherry\"}\n",
    "tropical={\"pineapple\",\"mango\",\"papaya\"}\n",
    "set.update(tropical)\n",
    "print(set)\n",
    "print(\"\\n\")\n",
    "\n",
    "set={\"apple\",\"banana\",\"cherry\"}\n",
    "mylist=[\"kiwi\",\"orange\"]\n",
    "thistuple=(\"kiwi\",\"orange\")\n",
    "thisdict={\"papaya\":5,\"watermelon\":2}\n",
    "print(set)\n",
    "\n",
    "\n"
   ]
  },
  {
   "cell_type": "code",
   "execution_count": 9,
   "id": "608cb6fc",
   "metadata": {},
   "outputs": [
    {
     "name": "stdout",
     "output_type": "stream",
     "text": [
      "set()\n",
      "<class 'set'>\n"
     ]
    }
   ],
   "source": [
    "#Clearing a using clear() method\n",
    "set.clear()\n",
    "print(set)\n",
    "\n",
    "#Delete the set completely\n",
    "set={\"apple\",\"banana\",\"cherry\"}\n",
    "del set\n",
    "print(set)"
   ]
  },
  {
   "cell_type": "code",
   "execution_count": 12,
   "id": "0c8bf631",
   "metadata": {},
   "outputs": [
    {
     "name": "stdout",
     "output_type": "stream",
     "text": [
      "{1, 'b', 'a', 2, 3, 'c'}\n",
      "\n",
      "\n",
      "{1, 'b', 'a', 2, 3, 'c'}\n"
     ]
    }
   ],
   "source": [
    "#Joining the set using union() method\n",
    "\n",
    "set1={\"a\",\"b\",\"c\"}\n",
    "set2={1,2,3}\n",
    "\n",
    "set3=set1.union(set2)\n",
    "print(set3)\n",
    "\n",
    "print(\"\\n\")\n",
    "\n",
    "set1={\"a\",\"b\",\"c\"}\n",
    "set2={1,2,3}\n",
    "set1.update(set2)\n",
    "print(set1)"
   ]
  },
  {
   "cell_type": "code",
   "execution_count": 16,
   "id": "0621cb83",
   "metadata": {},
   "outputs": [
    {
     "name": "stdout",
     "output_type": "stream",
     "text": [
      "{'c', 'a'}\n",
      "\n",
      "\n",
      "{'c', 'a'}\n"
     ]
    }
   ],
   "source": [
    "#intersection\n",
    "set1={\"a\",\"b\",\"c\"}\n",
    "set2={\"a\",2,\"c\",\"t\",5,6,7}\n",
    "set1.intersection_update(set2)\n",
    "print(set1)\n",
    "print(\"\\n\")\n",
    "\n",
    "set3=set1.intersection(set2)\n",
    "print(set3)"
   ]
  },
  {
   "cell_type": "code",
   "execution_count": 19,
   "id": "4aa85cdf",
   "metadata": {},
   "outputs": [
    {
     "name": "stdout",
     "output_type": "stream",
     "text": [
      "{2, 'b', 5, 6, 7, 't'}\n",
      "\n",
      "\n",
      "{2, 'b', 5, 6, 7, 't'}\n"
     ]
    }
   ],
   "source": [
    "#Symmetric Difference\n",
    "set1={\"a\",\"b\",\"c\"}\n",
    "set2={\"a\",2,\"c\",\"t\",5,6,7}\n",
    "set1.symmetric_difference_update(set2)\n",
    "print(set1)\n",
    "print(\"\\n\")\n",
    "\n",
    "set1={\"a\",\"b\",\"c\"}\n",
    "set2={\"a\",2,\"c\",\"t\",5,6,7}\n",
    "set3=set1.symmetric_difference(set2)\n",
    "print(set3)"
   ]
  },
  {
   "cell_type": "code",
   "execution_count": 24,
   "id": "af71cd34",
   "metadata": {},
   "outputs": [
    {
     "name": "stdout",
     "output_type": "stream",
     "text": [
      "{'a': 4, 'b': 5, 'c': 6, 'd': 5, 'e': 2, 'f': 1, 'g': 8, 'h': 3, 'i': 2}\n"
     ]
    }
   ],
   "source": [
    "dict1={'a':4,'b':5,'c':6}\n",
    "dict2={'d':5,'e':2,'f':1}\n",
    "dict3={'g':8,'h':3,'i':2}\n",
    "dict2.update(dict3)\n",
    "dict1.update(dict2)\n",
    "print(dict1)"
   ]
  },
  {
   "cell_type": "code",
   "execution_count": 25,
   "id": "c14021fa",
   "metadata": {},
   "outputs": [
    {
     "name": "stdout",
     "output_type": "stream",
     "text": [
      "{1: 'Sunday', 2: 'Monday', 3: 'Tuesday', 'a': 1, 'b': 2, 'c': 3, 100: 'Hundred', 200: 'Two Hundred', 300: 'Three Hundred'}\n"
     ]
    }
   ],
   "source": [
    "dict1 = {1:\"Sunday\",2:\"Monday\",3:\"Tuesday\"}\n",
    "dict2 = {\"a\":1,\"b\":2,\"c\":3}\n",
    "dict3 = {100:\"Hundred\",200:\"Two Hundred\",300:\"Three Hundred\"}\n",
    "dict4 = {**dict1,**dict2,**dict3}\n",
    "print(dict4)"
   ]
  },
  {
   "cell_type": "code",
   "execution_count": 28,
   "id": "d6bdfd50",
   "metadata": {},
   "outputs": [
    {
     "name": "stdout",
     "output_type": "stream",
     "text": [
      "Name: XYZ, Address: Ghaziabad, Street: vaibhav khand, State: UP\n"
     ]
    }
   ],
   "source": [
    "d1={\"name\":\"XYZ\",\"address\":\"Ghaziabad\",\"street\":\"vaibhav khand\",\"state\":\"UP\"}\n",
    "print (\"Name: {}, Address: {}, Street: {}, State: {}\".format(d1['name'], d1['address'], d1['street'], d1['state']))"
   ]
  },
  {
   "cell_type": "code",
   "execution_count": 35,
   "id": "317ae692",
   "metadata": {},
   "outputs": [
    {
     "name": "stdout",
     "output_type": "stream",
     "text": [
      "1200\n"
     ]
    }
   ],
   "source": [
    "res=1\n",
    "FruitDict = {'Apple': 10, 'banana': 5,'orange':4,'Guava':6} \n",
    "for i in FruitDict.values():\n",
    "    res*=i\n",
    "print(res)"
   ]
  },
  {
   "cell_type": "code",
   "execution_count": 46,
   "id": "a3e4268a",
   "metadata": {},
   "outputs": [
    {
     "name": "stdout",
     "output_type": "stream",
     "text": [
      "Enter range2\n",
      "Enter Key:hari\n",
      "Enter Value:59\n",
      "Enter Key:sunny\n",
      "Enter Value:60\n",
      "Enter Key to checkhari\n",
      "Present,  value = 59\n"
     ]
    }
   ],
   "source": [
    "dict={}\n",
    "n=int(input(\"Enter range\"))\n",
    "for i in range(n):\n",
    "    key=input(\"Enter Key:\")\n",
    "    val=int(input(\"Enter Value:\"))\n",
    "    dict[key]=val\n",
    "key=input(\"Enter Key to check\")\n",
    "\n",
    "if key in dict.keys():\n",
    "    print(\"Present, \", end =\" \")\n",
    "    print(\"value =\", dict[key])\n",
    "else:\n",
    "    print(\"Not present\")\n",
    "  "
   ]
  },
  {
   "cell_type": "code",
   "execution_count": 51,
   "id": "9541849d",
   "metadata": {},
   "outputs": [
    {
     "name": "stdout",
     "output_type": "stream",
     "text": [
      "Original list : [('Eng', 88), ('Sci', 90), ('Maths', 97), ('Sst', 82)]\n",
      "\n",
      "After Sorting : [('Sst', 82), ('Eng', 88), ('Sci', 90), ('Maths', 97)]\n"
     ]
    }
   ],
   "source": [
    "marks = [('Eng', 88), ('Sci', 90), ('Maths', 97), ('Sst', 82)]\n",
    "print(\"Original list :\",marks)\n",
    "\n",
    "marks.sort(key = lambda x: x[1])\n",
    "print(\"\\nAfter Sorting :\",marks)\n"
   ]
  },
  {
   "cell_type": "code",
   "execution_count": 57,
   "id": "0d1a3e3d",
   "metadata": {},
   "outputs": [
    {
     "name": "stdout",
     "output_type": "stream",
     "text": [
      "Enter Number 1:1\n",
      "Enter NUmber 2:2\n",
      "Coming from if \n"
     ]
    }
   ],
   "source": [
    "def fun(a,b):\n",
    "    if(a==1):\n",
    "        print(\"Coming from if \")\n",
    "    elif(b==1):\n",
    "        print(\"Coming from elif\")\n",
    "    else:\n",
    "        print(\"No Result\")\n",
    "\n",
    "x=int(input(\"Enter Number 1:\"))\n",
    "y=int(input(\"Enter NUmber 2:\"))\n",
    "\n",
    "fun(x,y)"
   ]
  },
  {
   "cell_type": "code",
   "execution_count": 60,
   "id": "1f9651c0",
   "metadata": {},
   "outputs": [
    {
     "name": "stdout",
     "output_type": "stream",
     "text": [
      "66.0\n"
     ]
    }
   ],
   "source": [
    "def avg(a,b):\n",
    "    s=a+b\n",
    "    avg=s/2\n",
    "    return avg\n",
    "dict={1:{'name':'Ram','Mark':{'phy':56,'chem':78}},2:{'name':'Hari','Mark':{'phy':76,'chem':88}}}\n",
    "mark=avg(dict[1]['Mark']['phy'],dict[2]['Mark']['phy'])\n",
    "print(mark)"
   ]
  },
  {
   "cell_type": "code",
   "execution_count": null,
   "id": "a73f0d19",
   "metadata": {},
   "outputs": [],
   "source": []
  }
 ],
 "metadata": {
  "kernelspec": {
   "display_name": "Python 3",
   "language": "python",
   "name": "python3"
  },
  "language_info": {
   "codemirror_mode": {
    "name": "ipython",
    "version": 3
   },
   "file_extension": ".py",
   "mimetype": "text/x-python",
   "name": "python",
   "nbconvert_exporter": "python",
   "pygments_lexer": "ipython3",
   "version": "3.8.8"
  }
 },
 "nbformat": 4,
 "nbformat_minor": 5
}
