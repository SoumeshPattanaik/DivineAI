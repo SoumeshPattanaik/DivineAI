{
  "nbformat": 4,
  "nbformat_minor": 0,
  "metadata": {
    "colab": {
      "name": "Assignment1.ipynb",
      "provenance": [],
      "authorship_tag": "ABX9TyNdg2gLzSIBb/iTTf5ElHR9",
      "include_colab_link": true
    },
    "kernelspec": {
      "name": "python3",
      "display_name": "Python 3"
    },
    "language_info": {
      "name": "python"
    }
  },
  "cells": [
    {
      "cell_type": "markdown",
      "metadata": {
        "id": "view-in-github",
        "colab_type": "text"
      },
      "source": [
        "<a href=\"https://colab.research.google.com/github/SoumeshPattanaik/DivineAI/blob/main/Assignment1.ipynb\" target=\"_parent\"><img src=\"https://colab.research.google.com/assets/colab-badge.svg\" alt=\"Open In Colab\"/></a>"
      ]
    },
    {
      "cell_type": "code",
      "metadata": {
        "colab": {
          "base_uri": "https://localhost:8080/"
        },
        "id": "9c34Y9Qwk5c6",
        "outputId": "6683af1b-d7b3-4b68-e85d-4ff62cac7e83"
      },
      "source": [
        "#Multiplication Table\n",
        "n=int(input(\"Enter a number\"))\n",
        "for i in range(1,11):\n",
        "  print(n,\" X \",i,\" = \",n*i)"
      ],
      "execution_count": null,
      "outputs": [
        {
          "output_type": "stream",
          "text": [
            "Enter a number3\n",
            "3  X  1  =  3\n",
            "3  X  2  =  6\n",
            "3  X  3  =  9\n",
            "3  X  4  =  12\n",
            "3  X  5  =  15\n",
            "3  X  6  =  18\n",
            "3  X  7  =  21\n",
            "3  X  8  =  24\n",
            "3  X  9  =  27\n",
            "3  X  10  =  30\n"
          ],
          "name": "stdout"
        }
      ]
    },
    {
      "cell_type": "code",
      "metadata": {
        "colab": {
          "base_uri": "https://localhost:8080/"
        },
        "id": "xghQgiT-k9A9",
        "outputId": "ca8f31a6-9475-45ee-a40a-1b469638670f"
      },
      "source": [
        "#Sum of n natural numbers\n",
        "n=int(input(\"Enter a number \"))\n",
        "sum=0\n",
        "if (n<0):\n",
        "  print(\"Invalid entry!!\")\n",
        "else:\n",
        "  for i in range(0,n):\n",
        "    sum+=i\n",
        "  print(\"Sum= \",sum)"
      ],
      "execution_count": null,
      "outputs": [
        {
          "output_type": "stream",
          "text": [
            "Enter a number -3\n",
            "Invalid entry!!\n"
          ],
          "name": "stdout"
        }
      ]
    },
    {
      "cell_type": "code",
      "metadata": {
        "colab": {
          "base_uri": "https://localhost:8080/"
        },
        "id": "AcDe5Hypl9KR",
        "outputId": "2a3a16df-5020-4fe8-fcb8-8e9651f51af5"
      },
      "source": [
        "#Factorial of a given number\n",
        "n=int(input(\"Enter a positive number \"))\n",
        "fact=1.0\n",
        "if(n<0):\n",
        "  print(\"Invalid entry!!Factorial of a negative number does't exist\")\n",
        "else:\n",
        "  for i in range(1,n):\n",
        "    fact*=i\n",
        "  print(n,\"! = \",fact)"
      ],
      "execution_count": null,
      "outputs": [
        {
          "output_type": "stream",
          "text": [
            "Enter a positive number 12\n",
            "12 ! =  39916800.0\n"
          ],
          "name": "stdout"
        }
      ]
    },
    {
      "cell_type": "code",
      "metadata": {
        "colab": {
          "base_uri": "https://localhost:8080/"
        },
        "id": "Fhe3SiK7miV8",
        "outputId": "7d918549-9f71-460c-cfeb-89c826ccd8c2"
      },
      "source": [
        "#Sales and average sales of month\n",
        "n=int(input(\"Enter number of sales\"))\n",
        "avg=0.0\n",
        "sum=0\n",
        "if(n==0):\n",
        "  print(\"Number of sales=0\\nTotal Sales=0\\nTotal Average=0\")\n",
        "else:\n",
        "  print(\"Number of sales=\",n)\n",
        "  for i in range(1,n+1):\n",
        "    print(i)\n",
        "    sales=float(input(\"Enter sale \",))\n",
        "    sum+=sales\n",
        "    avg=sum/n\n",
        "  print(sum)\n",
        "  print(avg)"
      ],
      "execution_count": null,
      "outputs": [
        {
          "output_type": "stream",
          "text": [
            "Enter number of sales5\n",
            "Number of sales= 5\n",
            "1\n",
            "Enter sale 6\n",
            "2\n",
            "Enter sale 3\n",
            "3\n",
            "Enter sale 5\n",
            "4\n",
            "Enter sale 7\n",
            "5\n",
            "Enter sale 10\n",
            "31.0\n",
            "6.2\n"
          ],
          "name": "stdout"
        }
      ]
    },
    {
      "cell_type": "code",
      "metadata": {
        "id": "QVIcj4Ktr_xy"
      },
      "source": [
        "\n"
      ],
      "execution_count": null,
      "outputs": []
    }
  ]
}