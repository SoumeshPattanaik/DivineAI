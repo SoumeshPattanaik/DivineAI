{
  "nbformat": 4,
  "nbformat_minor": 0,
  "metadata": {
    "colab": {
      "name": "If-Statement.ipynb",
      "provenance": [],
      "authorship_tag": "ABX9TyNNaILI/gkEXoPC70ukLzPb",
      "include_colab_link": true
    },
    "kernelspec": {
      "name": "python3",
      "display_name": "Python 3"
    },
    "language_info": {
      "name": "python"
    }
  },
  "cells": [
    {
      "cell_type": "markdown",
      "metadata": {
        "id": "view-in-github",
        "colab_type": "text"
      },
      "source": [
        "<a href=\"https://colab.research.google.com/github/SoumeshPattanaik/DivineAI/blob/main/If_Statement.ipynb\" target=\"_parent\"><img src=\"https://colab.research.google.com/assets/colab-badge.svg\" alt=\"Open In Colab\"/></a>"
      ]
    },
    {
      "cell_type": "code",
      "metadata": {
        "colab": {
          "base_uri": "https://localhost:8080/"
        },
        "id": "UeksnyXcf7wh",
        "outputId": "66447e08-1cb2-454b-f1fb-0e02d7e0dffe"
      },
      "source": [
        "x=-3\n",
        "if (x>0):\n",
        "  print('Value is positive')\n",
        "elif(x<0):\n",
        "  print('Value is negative')\n",
        "else:\n",
        "  print('Value is zero')"
      ],
      "execution_count": 2,
      "outputs": [
        {
          "output_type": "stream",
          "text": [
            "Value is negative\n"
          ],
          "name": "stdout"
        }
      ]
    },
    {
      "cell_type": "code",
      "metadata": {
        "colab": {
          "base_uri": "https://localhost:8080/"
        },
        "id": "-zQUjmuKgZ5X",
        "outputId": "127272d2-8c5c-48f8-b5c9-90829bf103a4"
      },
      "source": [
        "x=13\n",
        "if x<10:\n",
        "  s='Yes'\n",
        "else:\n",
        "  s='No'\n",
        "print(s)"
      ],
      "execution_count": 3,
      "outputs": [
        {
          "output_type": "stream",
          "text": [
            "No\n"
          ],
          "name": "stdout"
        }
      ]
    },
    {
      "cell_type": "code",
      "metadata": {
        "colab": {
          "base_uri": "https://localhost:8080/"
        },
        "id": "2jwaFLOjg-PN",
        "outputId": "a217e4c4-c042-45f4-98d4-0eb11ea14eb2"
      },
      "source": [
        "s='Yes' if x<10 else 'No'\n",
        "print(s)"
      ],
      "execution_count": 4,
      "outputs": [
        {
          "output_type": "stream",
          "text": [
            "No\n"
          ],
          "name": "stdout"
        }
      ]
    },
    {
      "cell_type": "code",
      "metadata": {
        "colab": {
          "base_uri": "https://localhost:8080/"
        },
        "id": "mwIlkp-LhLjJ",
        "outputId": "83916e7d-9f0e-4f6f-adae-7627ae10f78e"
      },
      "source": [
        "x=5\n",
        "if 0<x<10:\n",
        "  print('In Range')\n",
        "else:\n",
        "  print('Not in range')"
      ],
      "execution_count": 5,
      "outputs": [
        {
          "output_type": "stream",
          "text": [
            "In Range\n"
          ],
          "name": "stdout"
        }
      ]
    },
    {
      "cell_type": "code",
      "metadata": {
        "colab": {
          "base_uri": "https://localhost:8080/"
        },
        "id": "oPstGJFMhwvJ",
        "outputId": "b40b3abc-a7a1-4a82-a02e-f1f75dacdcfe"
      },
      "source": [
        "x=[20,30,20,40]\n",
        "y=x[:]\n",
        "z=x\n",
        "print(x)\n",
        "print(\"Are values of y and x same?\",y==x)\n",
        "print(\"Are objects of y and x same?\",y is x)\n",
        "print(\"Are values of z and x same?\",z==x)\n",
        "print(\"Are of objects of z and x same?\",z is x)"
      ],
      "execution_count": 10,
      "outputs": [
        {
          "output_type": "stream",
          "text": [
            "[20, 30, 20, 40]\n",
            "Are values of y and x same? True\n",
            "Are objects of y and x same? False\n",
            "Are values of z and x same? True\n",
            "Are of objects of z and x same? True\n"
          ],
          "name": "stdout"
        }
      ]
    },
    {
      "cell_type": "code",
      "metadata": {
        "colab": {
          "base_uri": "https://localhost:8080/"
        },
        "id": "q-I38emiktF-",
        "outputId": "c675d1cd-a5ae-482f-ebfc-a670de9bc828"
      },
      "source": [
        "x[0]=10 #After changing x\n",
        "print(x)\n",
        "print(\"Are values of y and x same?\",y==x)\n",
        "print(\"Are objects of y and x same?\",y is x)\n",
        "print(\"Are values of z and x same?\",z==x)\n",
        "print(\"Are of objects of z and x same?\",z is x)"
      ],
      "execution_count": 13,
      "outputs": [
        {
          "output_type": "stream",
          "text": [
            "[10, 30, 20, 40]\n",
            "Are values of y and x same? False\n",
            "Are objects of y and x same? False\n",
            "Are values of z and x same? True\n",
            "Are of objects of z and x same? True\n"
          ],
          "name": "stdout"
        }
      ]
    },
    {
      "cell_type": "code",
      "metadata": {
        "colab": {
          "base_uri": "https://localhost:8080/"
        },
        "id": "9Ajyx14xlGTP",
        "outputId": "cd10b7e3-ebb2-4018-8079-627785a9cd73"
      },
      "source": [
        "x=''\n",
        "y='a'\n",
        "if x:\n",
        "  print('x is True')\n",
        "else:\n",
        "  print('x is False')\n",
        "  \n",
        "if y:\n",
        "  print('y is True')\n",
        "else:\n",
        "  print('y is False')"
      ],
      "execution_count": 17,
      "outputs": [
        {
          "output_type": "stream",
          "text": [
            "x is False\n",
            "y is True\n"
          ],
          "name": "stdout"
        }
      ]
    },
    {
      "cell_type": "code",
      "metadata": {
        "id": "1d-mOWhilkuM"
      },
      "source": [
        ""
      ],
      "execution_count": null,
      "outputs": []
    }
  ]
}