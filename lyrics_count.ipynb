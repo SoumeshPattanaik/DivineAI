{
  "nbformat": 4,
  "nbformat_minor": 0,
  "metadata": {
    "colab": {
      "name": "lyrics_count.ipynb",
      "provenance": [],
      "authorship_tag": "ABX9TyOjCjQPANaPbeuV7XxLPAKk",
      "include_colab_link": true
    },
    "kernelspec": {
      "name": "python3",
      "display_name": "Python 3"
    },
    "language_info": {
      "name": "python"
    }
  },
  "cells": [
    {
      "cell_type": "markdown",
      "metadata": {
        "id": "view-in-github",
        "colab_type": "text"
      },
      "source": [
        "<a href=\"https://colab.research.google.com/github/SoumeshPattanaik/DivineAI/blob/main/lyrics_count.ipynb\" target=\"_parent\"><img src=\"https://colab.research.google.com/assets/colab-badge.svg\" alt=\"Open In Colab\"/></a>"
      ]
    },
    {
      "cell_type": "code",
      "metadata": {
        "colab": {
          "base_uri": "https://localhost:8080/"
        },
        "id": "DKhVrPQI4zFO",
        "outputId": "6850ada5-665f-48a7-fdf3-756e23f4adb8"
      },
      "source": [
        "lyrics=\"Imagine there's no heaven It's easy if you try No hell below us Above us, only sky Imagine all the people Livin' for today\"\n",
        "print(\"The original string is: \",lyrics)\n",
        "a=lyrics.split()\n",
        "print(\"\\nThe string after spliting is: \",a)\n",
        "print(\"\\nThe length of the original string is\",len(a))\n",
        "b=[]\n",
        "c=0\n",
        "for i in a:\n",
        "  if i not in b:\n",
        "    b.append(i)\n",
        "    c+=1\n",
        "print(\"\\nNumber of unique words are: \",c)\n",
        "print(\"\\nUnique words: \",b)\n"
      ],
      "execution_count": null,
      "outputs": [
        {
          "output_type": "stream",
          "text": [
            "The original string is:  Imagine there's no heaven It's easy if you try No hell below us Above us, only sky Imagine all the people Livin' for today\n",
            "\n",
            "The string after spliting is:  ['Imagine', \"there's\", 'no', 'heaven', \"It's\", 'easy', 'if', 'you', 'try', 'No', 'hell', 'below', 'us', 'Above', 'us,', 'only', 'sky', 'Imagine', 'all', 'the', 'people', \"Livin'\", 'for', 'today']\n",
            "\n",
            "The length of the original string is 24\n",
            "\n",
            "Number of unique words are:  23\n",
            "\n",
            "Unique words:  ['Imagine', \"there's\", 'no', 'heaven', \"It's\", 'easy', 'if', 'you', 'try', 'No', 'hell', 'below', 'us', 'Above', 'us,', 'only', 'sky', 'all', 'the', 'people', \"Livin'\", 'for', 'today']\n"
          ],
          "name": "stdout"
        }
      ]
    },
    {
      "cell_type": "code",
      "metadata": {
        "id": "sTGVS5MF5InQ"
      },
      "source": [
        ""
      ],
      "execution_count": null,
      "outputs": []
    }
  ]
}